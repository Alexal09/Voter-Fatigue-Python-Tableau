{
 "cells": [
  {
   "cell_type": "markdown",
   "id": "443fe23d",
   "metadata": {},
   "source": [
    "# Table of contents\n",
    "\n",
    "- importing libraries\n",
    "- check shape of data frame\n",
    "- Analyzing data\n",
    "- Any mix type columns?\n",
    "- Any data missing?\n",
    "- Any duplicate data?"
   ]
  },
  {
   "cell_type": "code",
   "execution_count": 1,
   "id": "ffbcf6f2",
   "metadata": {},
   "outputs": [],
   "source": [
    "#import libraries\n",
    "import pandas as pd\n",
    "import numpy as np\n",
    "import os"
   ]
  },
  {
   "cell_type": "code",
   "execution_count": 2,
   "id": "72d5cc6c",
   "metadata": {},
   "outputs": [],
   "source": [
    "path = r'C:\\Users\\alexa\\OneDrive\\Documents\\data analytics\\Achievement 6'"
   ]
  },
  {
   "cell_type": "code",
   "execution_count": 7,
   "id": "c78ff425",
   "metadata": {},
   "outputs": [],
   "source": [
    "df_voter = pd.read_csv(os.path.join(path, 'Main', 'idea_voter_clean.csv'), index_col=False)"
   ]
  },
  {
   "cell_type": "markdown",
   "id": "1179e96d",
   "metadata": {},
   "source": [
    "# Data frame shape"
   ]
  },
  {
   "cell_type": "code",
   "execution_count": 8,
   "id": "84d27b55",
   "metadata": {},
   "outputs": [
    {
     "data": {
      "text/html": [
       "<div>\n",
       "<style scoped>\n",
       "    .dataframe tbody tr th:only-of-type {\n",
       "        vertical-align: middle;\n",
       "    }\n",
       "\n",
       "    .dataframe tbody tr th {\n",
       "        vertical-align: top;\n",
       "    }\n",
       "\n",
       "    .dataframe thead th {\n",
       "        text-align: right;\n",
       "    }\n",
       "</style>\n",
       "<table border=\"1\" class=\"dataframe\">\n",
       "  <thead>\n",
       "    <tr style=\"text-align: right;\">\n",
       "      <th></th>\n",
       "      <th>Country</th>\n",
       "      <th>Election type</th>\n",
       "      <th>Year</th>\n",
       "      <th>Voter Turnout</th>\n",
       "      <th>Total vote</th>\n",
       "      <th>Registration</th>\n",
       "      <th>VAP Turnout</th>\n",
       "      <th>Voting age population</th>\n",
       "      <th>Population</th>\n",
       "      <th>Invalid votes</th>\n",
       "      <th>Compulsory voting</th>\n",
       "    </tr>\n",
       "  </thead>\n",
       "  <tbody>\n",
       "    <tr>\n",
       "      <th>0</th>\n",
       "      <td>Afghanistan</td>\n",
       "      <td>Parliamentary</td>\n",
       "      <td>2018</td>\n",
       "      <td>0.4523</td>\n",
       "      <td>4000000.0</td>\n",
       "      <td>8843151.0</td>\n",
       "      <td>0.2181</td>\n",
       "      <td>18340292.0</td>\n",
       "      <td>34940837.0</td>\n",
       "      <td>NaN</td>\n",
       "      <td>No</td>\n",
       "    </tr>\n",
       "    <tr>\n",
       "      <th>1</th>\n",
       "      <td>Afghanistan</td>\n",
       "      <td>Parliamentary</td>\n",
       "      <td>2010</td>\n",
       "      <td>0.3514</td>\n",
       "      <td>4216594.0</td>\n",
       "      <td>12000000.0</td>\n",
       "      <td>0.2971</td>\n",
       "      <td>14191908.0</td>\n",
       "      <td>29120727.0</td>\n",
       "      <td>0.0442</td>\n",
       "      <td>No</td>\n",
       "    </tr>\n",
       "    <tr>\n",
       "      <th>2</th>\n",
       "      <td>Afghanistan</td>\n",
       "      <td>Parliamentary</td>\n",
       "      <td>2005</td>\n",
       "      <td>0.4937</td>\n",
       "      <td>6406615.0</td>\n",
       "      <td>12977336.0</td>\n",
       "      <td>0.5171</td>\n",
       "      <td>12389532.0</td>\n",
       "      <td>26334702.0</td>\n",
       "      <td>0.0510</td>\n",
       "      <td>No</td>\n",
       "    </tr>\n",
       "    <tr>\n",
       "      <th>3</th>\n",
       "      <td>Afghanistan</td>\n",
       "      <td>Presidential</td>\n",
       "      <td>2019</td>\n",
       "      <td>0.1900</td>\n",
       "      <td>1824401.0</td>\n",
       "      <td>9600000.0</td>\n",
       "      <td>0.0963</td>\n",
       "      <td>18938369.0</td>\n",
       "      <td>35780458.0</td>\n",
       "      <td>NaN</td>\n",
       "      <td>No</td>\n",
       "    </tr>\n",
       "    <tr>\n",
       "      <th>4</th>\n",
       "      <td>Afghanistan</td>\n",
       "      <td>Presidential</td>\n",
       "      <td>2014</td>\n",
       "      <td>0.3890</td>\n",
       "      <td>8109493.0</td>\n",
       "      <td>20845988.0</td>\n",
       "      <td>0.5003</td>\n",
       "      <td>16208255.0</td>\n",
       "      <td>31822848.0</td>\n",
       "      <td>0.0168</td>\n",
       "      <td>No</td>\n",
       "    </tr>\n",
       "  </tbody>\n",
       "</table>\n",
       "</div>"
      ],
      "text/plain": [
       "       Country  Election type  Year  Voter Turnout  Total vote  Registration  \\\n",
       "0  Afghanistan  Parliamentary  2018         0.4523   4000000.0     8843151.0   \n",
       "1  Afghanistan  Parliamentary  2010         0.3514   4216594.0    12000000.0   \n",
       "2  Afghanistan  Parliamentary  2005         0.4937   6406615.0    12977336.0   \n",
       "3  Afghanistan   Presidential  2019         0.1900   1824401.0     9600000.0   \n",
       "4  Afghanistan   Presidential  2014         0.3890   8109493.0    20845988.0   \n",
       "\n",
       "   VAP Turnout  Voting age population  Population  Invalid votes  \\\n",
       "0       0.2181             18340292.0  34940837.0            NaN   \n",
       "1       0.2971             14191908.0  29120727.0         0.0442   \n",
       "2       0.5171             12389532.0  26334702.0         0.0510   \n",
       "3       0.0963             18938369.0  35780458.0            NaN   \n",
       "4       0.5003             16208255.0  31822848.0         0.0168   \n",
       "\n",
       "  Compulsory voting  \n",
       "0                No  \n",
       "1                No  \n",
       "2                No  \n",
       "3                No  \n",
       "4                No  "
      ]
     },
     "execution_count": 8,
     "metadata": {},
     "output_type": "execute_result"
    }
   ],
   "source": [
    "df_voter.head()"
   ]
  },
  {
   "cell_type": "code",
   "execution_count": 5,
   "id": "6b3021e9",
   "metadata": {},
   "outputs": [
    {
     "data": {
      "text/plain": [
       "(1626, 11)"
      ]
     },
     "execution_count": 5,
     "metadata": {},
     "output_type": "execute_result"
    }
   ],
   "source": [
    "#checking the shape of the data\n",
    "df_voter.shape"
   ]
  },
  {
   "cell_type": "markdown",
   "id": "c1b439ce",
   "metadata": {},
   "source": [
    "# Analyzing data"
   ]
  },
  {
   "cell_type": "code",
   "execution_count": 6,
   "id": "6772b5a0",
   "metadata": {},
   "outputs": [
    {
     "name": "stdout",
     "output_type": "stream",
     "text": [
      "<class 'pandas.core.frame.DataFrame'>\n",
      "RangeIndex: 1626 entries, 0 to 1625\n",
      "Data columns (total 11 columns):\n",
      " #   Column                 Non-Null Count  Dtype  \n",
      "---  ------                 --------------  -----  \n",
      " 0   Country                1626 non-null   object \n",
      " 1   Election type          1626 non-null   object \n",
      " 2   Year                   1626 non-null   int64  \n",
      " 3   Voter Turnout          1583 non-null   float64\n",
      " 4   Total vote             1588 non-null   float64\n",
      " 5   Registration           1602 non-null   float64\n",
      " 6   VAP Turnout            1574 non-null   float64\n",
      " 7   Voting age population  1616 non-null   float64\n",
      " 8   Population             1614 non-null   float64\n",
      " 9   Invalid votes          1256 non-null   float64\n",
      " 10  Compulsory voting      1620 non-null   object \n",
      "dtypes: float64(7), int64(1), object(3)\n",
      "memory usage: 139.9+ KB\n"
     ]
    }
   ],
   "source": [
    "#seeing if we have mix type data\n",
    "df_voter.info()"
   ]
  },
  {
   "cell_type": "code",
   "execution_count": 10,
   "id": "4b14d1aa",
   "metadata": {},
   "outputs": [
    {
     "data": {
      "text/html": [
       "<div>\n",
       "<style scoped>\n",
       "    .dataframe tbody tr th:only-of-type {\n",
       "        vertical-align: middle;\n",
       "    }\n",
       "\n",
       "    .dataframe tbody tr th {\n",
       "        vertical-align: top;\n",
       "    }\n",
       "\n",
       "    .dataframe thead th {\n",
       "        text-align: right;\n",
       "    }\n",
       "</style>\n",
       "<table border=\"1\" class=\"dataframe\">\n",
       "  <thead>\n",
       "    <tr style=\"text-align: right;\">\n",
       "      <th></th>\n",
       "      <th>Year</th>\n",
       "      <th>Voter Turnout</th>\n",
       "      <th>Total vote</th>\n",
       "      <th>Registration</th>\n",
       "      <th>VAP Turnout</th>\n",
       "      <th>Voting age population</th>\n",
       "      <th>Population</th>\n",
       "      <th>Invalid votes</th>\n",
       "    </tr>\n",
       "  </thead>\n",
       "  <tbody>\n",
       "    <tr>\n",
       "      <th>count</th>\n",
       "      <td>1626.000000</td>\n",
       "      <td>1583.000000</td>\n",
       "      <td>1.588000e+03</td>\n",
       "      <td>1.602000e+03</td>\n",
       "      <td>1574.000000</td>\n",
       "      <td>1.616000e+03</td>\n",
       "      <td>1.614000e+03</td>\n",
       "      <td>1256.000000</td>\n",
       "    </tr>\n",
       "    <tr>\n",
       "      <th>mean</th>\n",
       "      <td>2011.023985</td>\n",
       "      <td>0.652142</td>\n",
       "      <td>1.136407e+07</td>\n",
       "      <td>1.753283e+07</td>\n",
       "      <td>0.603645</td>\n",
       "      <td>1.859113e+07</td>\n",
       "      <td>2.738369e+07</td>\n",
       "      <td>0.036493</td>\n",
       "    </tr>\n",
       "    <tr>\n",
       "      <th>std</th>\n",
       "      <td>6.424763</td>\n",
       "      <td>0.165676</td>\n",
       "      <td>3.234609e+07</td>\n",
       "      <td>4.922696e+07</td>\n",
       "      <td>0.184014</td>\n",
       "      <td>5.038661e+07</td>\n",
       "      <td>7.450671e+07</td>\n",
       "      <td>0.043514</td>\n",
       "    </tr>\n",
       "    <tr>\n",
       "      <th>min</th>\n",
       "      <td>2000.000000</td>\n",
       "      <td>0.130500</td>\n",
       "      <td>2.288000e+03</td>\n",
       "      <td>2.953000e+03</td>\n",
       "      <td>0.096300</td>\n",
       "      <td>2.664000e+03</td>\n",
       "      <td>4.239000e+03</td>\n",
       "      <td>0.000000</td>\n",
       "    </tr>\n",
       "    <tr>\n",
       "      <th>25%</th>\n",
       "      <td>2006.000000</td>\n",
       "      <td>0.540100</td>\n",
       "      <td>7.713455e+05</td>\n",
       "      <td>1.328576e+06</td>\n",
       "      <td>0.483325</td>\n",
       "      <td>1.479603e+06</td>\n",
       "      <td>2.100321e+06</td>\n",
       "      <td>0.012000</td>\n",
       "    </tr>\n",
       "    <tr>\n",
       "      <th>50%</th>\n",
       "      <td>2011.000000</td>\n",
       "      <td>0.659300</td>\n",
       "      <td>2.863842e+06</td>\n",
       "      <td>4.816594e+06</td>\n",
       "      <td>0.615450</td>\n",
       "      <td>5.027049e+06</td>\n",
       "      <td>7.862944e+06</td>\n",
       "      <td>0.023000</td>\n",
       "    </tr>\n",
       "    <tr>\n",
       "      <th>75%</th>\n",
       "      <td>2016.000000</td>\n",
       "      <td>0.770250</td>\n",
       "      <td>8.951586e+06</td>\n",
       "      <td>1.408850e+07</td>\n",
       "      <td>0.731775</td>\n",
       "      <td>1.526790e+07</td>\n",
       "      <td>2.356848e+07</td>\n",
       "      <td>0.045000</td>\n",
       "    </tr>\n",
       "    <tr>\n",
       "      <th>max</th>\n",
       "      <td>2022.000000</td>\n",
       "      <td>0.999000</td>\n",
       "      <td>6.136563e+08</td>\n",
       "      <td>9.105121e+08</td>\n",
       "      <td>1.215600</td>\n",
       "      <td>8.919343e+08</td>\n",
       "      <td>1.311559e+09</td>\n",
       "      <td>0.417000</td>\n",
       "    </tr>\n",
       "  </tbody>\n",
       "</table>\n",
       "</div>"
      ],
      "text/plain": [
       "              Year  Voter Turnout    Total vote  Registration  VAP Turnout  \\\n",
       "count  1626.000000    1583.000000  1.588000e+03  1.602000e+03  1574.000000   \n",
       "mean   2011.023985       0.652142  1.136407e+07  1.753283e+07     0.603645   \n",
       "std       6.424763       0.165676  3.234609e+07  4.922696e+07     0.184014   \n",
       "min    2000.000000       0.130500  2.288000e+03  2.953000e+03     0.096300   \n",
       "25%    2006.000000       0.540100  7.713455e+05  1.328576e+06     0.483325   \n",
       "50%    2011.000000       0.659300  2.863842e+06  4.816594e+06     0.615450   \n",
       "75%    2016.000000       0.770250  8.951586e+06  1.408850e+07     0.731775   \n",
       "max    2022.000000       0.999000  6.136563e+08  9.105121e+08     1.215600   \n",
       "\n",
       "       Voting age population    Population  Invalid votes  \n",
       "count           1.616000e+03  1.614000e+03    1256.000000  \n",
       "mean            1.859113e+07  2.738369e+07       0.036493  \n",
       "std             5.038661e+07  7.450671e+07       0.043514  \n",
       "min             2.664000e+03  4.239000e+03       0.000000  \n",
       "25%             1.479603e+06  2.100321e+06       0.012000  \n",
       "50%             5.027049e+06  7.862944e+06       0.023000  \n",
       "75%             1.526790e+07  2.356848e+07       0.045000  \n",
       "max             8.919343e+08  1.311559e+09       0.417000  "
      ]
     },
     "execution_count": 10,
     "metadata": {},
     "output_type": "execute_result"
    }
   ],
   "source": [
    "# analzing data\n",
    "df_voter.describe()"
   ]
  },
  {
   "cell_type": "code",
   "execution_count": 11,
   "id": "7d8913c7",
   "metadata": {},
   "outputs": [
    {
     "name": "stdout",
     "output_type": "stream",
     "text": [
      "Compulsory voting\n"
     ]
    }
   ],
   "source": [
    "#is there mix data types?\n",
    "for col in df_voter.columns.tolist():\n",
    "  weird = (df_voter[[col]].applymap(type) != df_voter[[col]].iloc[0].apply(type)).any(axis = 1)\n",
    "  if len (df_voter[weird]) > 0:\n",
    "    print (col)"
   ]
  },
  {
   "cell_type": "markdown",
   "id": "e4bcad71",
   "metadata": {},
   "source": [
    "this is normal since it is either blanks or yes or no."
   ]
  },
  {
   "cell_type": "code",
   "execution_count": 12,
   "id": "9b3491ec",
   "metadata": {},
   "outputs": [
    {
     "data": {
      "text/plain": [
       "Country                    0\n",
       "Election type              0\n",
       "Year                       0\n",
       "Voter Turnout             43\n",
       "Total vote                38\n",
       "Registration              24\n",
       "VAP Turnout               52\n",
       "Voting age population     10\n",
       "Population                12\n",
       "Invalid votes            370\n",
       "Compulsory voting          6\n",
       "dtype: int64"
      ]
     },
     "execution_count": 12,
     "metadata": {},
     "output_type": "execute_result"
    }
   ],
   "source": [
    "# seeing if we have any missing data\n",
    "df_voter.isnull().sum()"
   ]
  },
  {
   "cell_type": "markdown",
   "id": "e0c8d146",
   "metadata": {},
   "source": [
    "which is normal. the source told us to expect this but we cannot put 0 nor input since it wouldnt be accurate."
   ]
  },
  {
   "cell_type": "code",
   "execution_count": 13,
   "id": "bfee62b8",
   "metadata": {},
   "outputs": [],
   "source": [
    "#seeing if we have any duplicates\n",
    "df_dups = df_voter[df_voter.duplicated()]"
   ]
  },
  {
   "cell_type": "markdown",
   "id": "06073009",
   "metadata": {},
   "source": [
    "we do not have any duplicates"
   ]
  },
  {
   "cell_type": "code",
   "execution_count": null,
   "id": "3ba329cc",
   "metadata": {},
   "outputs": [],
   "source": []
  }
 ],
 "metadata": {
  "kernelspec": {
   "display_name": "Python 3 (ipykernel)",
   "language": "python",
   "name": "python3"
  },
  "language_info": {
   "codemirror_mode": {
    "name": "ipython",
    "version": 3
   },
   "file_extension": ".py",
   "mimetype": "text/x-python",
   "name": "python",
   "nbconvert_exporter": "python",
   "pygments_lexer": "ipython3",
   "version": "3.9.12"
  }
 },
 "nbformat": 4,
 "nbformat_minor": 5
}
